{
  "nbformat": 4,
  "nbformat_minor": 0,
  "metadata": {
    "colab": {
      "provenance": [],
      "authorship_tag": "ABX9TyOTFQ/hifWjKkbAWRxc8Cvc",
      "include_colab_link": true
    },
    "kernelspec": {
      "name": "python3",
      "display_name": "Python 3"
    },
    "language_info": {
      "name": "python"
    }
  },
  "cells": [
    {
      "cell_type": "markdown",
      "metadata": {
        "id": "view-in-github",
        "colab_type": "text"
      },
      "source": [
        "<a href=\"https://colab.research.google.com/github/RohithRagavender/practice/blob/main/LinearRegression.ipynb\" target=\"_parent\"><img src=\"https://colab.research.google.com/assets/colab-badge.svg\" alt=\"Open In Colab\"/></a>"
      ]
    },
    {
      "cell_type": "code",
      "execution_count": 6,
      "metadata": {
        "colab": {
          "base_uri": "https://localhost:8080/"
        },
        "id": "WFqaChKYpIwI",
        "outputId": "3e947913-c012-4b82-ba9e-66260e0b5821"
      },
      "outputs": [
        {
          "output_type": "stream",
          "name": "stdout",
          "text": [
            "Mean Squared Error: 4.523809523809515\n",
            "Slope (m): [8.14285714]\n",
            "Intercept (c): 44.0\n"
          ]
        }
      ],
      "source": [
        "from sklearn.linear_model import LinearRegression\n",
        "from sklearn.metrics import mean_squared_error\n",
        "import numpy as np\n",
        "\n",
        "X=np.array([[1],[2],[3],[4],[5],[6]])\n",
        "y=np.array([50,60,70,80,85,90])\n",
        "\n",
        "model=LinearRegression()\n",
        "model.fit(X,y)\n",
        "\n",
        "y_pred = model.predict(X)\n",
        "\n",
        "mse=mean_squared_error(y,y_pred)\n",
        "print(\"Mean Squared Error:\",mse)\n",
        "\n",
        "print(\"Slope (m):\",model.coef_)\n",
        "print(\"Intercept (c):\",model.intercept_)"
      ]
    }
  ]
}