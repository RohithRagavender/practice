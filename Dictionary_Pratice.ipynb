{
  "nbformat": 4,
  "nbformat_minor": 0,
  "metadata": {
    "colab": {
      "provenance": [],
      "authorship_tag": "ABX9TyNXYBJU6ceTZ2MoFF3PHeqy",
      "include_colab_link": true
    },
    "kernelspec": {
      "name": "python3",
      "display_name": "Python 3"
    },
    "language_info": {
      "name": "python"
    }
  },
  "cells": [
    {
      "cell_type": "markdown",
      "metadata": {
        "id": "view-in-github",
        "colab_type": "text"
      },
      "source": [
        "<a href=\"https://colab.research.google.com/github/RohithRagavender/practice/blob/main/Dictionary_Pratice.ipynb\" target=\"_parent\"><img src=\"https://colab.research.google.com/assets/colab-badge.svg\" alt=\"Open In Colab\"/></a>"
      ]
    },
    {
      "cell_type": "code",
      "execution_count": 8,
      "metadata": {
        "colab": {
          "base_uri": "https://localhost:8080/"
        },
        "id": "XyZ9CHY-WfNU",
        "outputId": "837983ac-9445-4729-c7a9-d6c257c63b03"
      },
      "outputs": [
        {
          "output_type": "stream",
          "name": "stdout",
          "text": [
            "rog --> vowels: o\n",
            "max --> vowels: a\n",
            "love --> vowels: o\n",
            "love --> vowels: e\n",
            "computer --> vowels: o\n",
            "computer --> vowels: u\n",
            "computer --> vowels: e\n"
          ]
        }
      ],
      "source": [
        "a=['rog','max','love','gym','computer']\n",
        "b=['a','e','i','o','u']\n",
        "\n",
        "for i in a:\n",
        "  for j in i:\n",
        "    if j in b:\n",
        "      print(i,\"-->\",\"vowels:\",j)"
      ]
    },
    {
      "cell_type": "code",
      "source": [
        "words=\"Presenting the lyrical video of the song Chammak Chhalo from the Bollywood movie Ra.One.The movie features Shahrukh Khan, Kareena Kapoor, Arjun Rampal, Armaan Verma, Shahana Goswami, Tom Wu in leading roles,Just keep giving us your love and keep listening to T-Series. Enjoy & stay connected with us \"\n",
        "dic={'a':0,'e':0,'i':0,'o':0,'u':0}\n",
        "\n",
        "for i in words.lower():\n",
        "  if i in dic:\n",
        "    dic[i]+=1\n",
        "\n",
        "for v,count in enumerate(dic.items()):\n",
        "  print(count)\n"
      ],
      "metadata": {
        "colab": {
          "base_uri": "https://localhost:8080/"
        },
        "id": "M7_Il20qXzpa",
        "outputId": "60b004cf-cc70-4952-8744-46d2a6756469"
      },
      "execution_count": 22,
      "outputs": [
        {
          "output_type": "stream",
          "name": "stdout",
          "text": [
            "('a', 25)\n",
            "('e', 28)\n",
            "('i', 14)\n",
            "('o', 21)\n",
            "('u', 8)\n"
          ]
        }
      ]
    }
  ]
}