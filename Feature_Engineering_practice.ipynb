{
  "nbformat": 4,
  "nbformat_minor": 0,
  "metadata": {
    "colab": {
      "provenance": [],
      "authorship_tag": "ABX9TyNWAbnlmISsSbzWXOdYEDKN",
      "include_colab_link": true
    },
    "kernelspec": {
      "name": "python3",
      "display_name": "Python 3"
    },
    "language_info": {
      "name": "python"
    }
  },
  "cells": [
    {
      "cell_type": "markdown",
      "metadata": {
        "id": "view-in-github",
        "colab_type": "text"
      },
      "source": [
        "<a href=\"https://colab.research.google.com/github/RohithRagavender/practice/blob/main/Feature_Engineering_practice.ipynb\" target=\"_parent\"><img src=\"https://colab.research.google.com/assets/colab-badge.svg\" alt=\"Open In Colab\"/></a>"
      ]
    },
    {
      "cell_type": "code",
      "execution_count": 21,
      "metadata": {
        "colab": {
          "base_uri": "https://localhost:8080/"
        },
        "id": "uMAvhb0tF63K",
        "outputId": "52f7ba4b-0b24-4428-d15d-1b8d863ec2ec"
      },
      "outputs": [
        {
          "output_type": "stream",
          "name": "stdout",
          "text": [
            "  Product     Category  Price  Discount Purchase_Date\n",
            "0   Shirt     Clothing   1200        10    2024-01-10\n",
            "1   Shoes     Footwear   2500        20    2024-01-15\n",
            "2   Watch  Accessories   5000        15    2024-02-20\n",
            "3   Shoes     Footwear   3000        10    2024-02-25\n",
            "4   Shirt     Clothing   1500         5    2024-03-05\n",
            "5   Watch  Accessories   4500        25    2024-03-10\n",
            "\n",
            "\n",
            "   Product     Price  Discount  Category_Accessories  Category_Clothing  \\\n",
            "0        0 -1.238728 -0.620174                 False               True   \n",
            "1        1 -0.318530  0.868243                 False              False   \n",
            "2        2  1.451081  0.124035                  True              False   \n",
            "3        1  0.035392 -0.620174                 False              False   \n",
            "4        0 -1.026375 -1.364382                 False               True   \n",
            "5        2  1.097159  1.612452                  True              False   \n",
            "\n",
            "   Category_Footwear  Year  Month  Day  \n",
            "0              False  2024      1   10  \n",
            "1               True  2024      1   15  \n",
            "2              False  2024      2   20  \n",
            "3               True  2024      2   25  \n",
            "4              False  2024      3    5  \n",
            "5              False  2024      3   10  \n"
          ]
        }
      ],
      "source": [
        "import pandas as pd\n",
        "\n",
        "data = {\n",
        "    'Product': ['Shirt', 'Shoes', 'Watch', 'Shoes', 'Shirt', 'Watch'],\n",
        "    'Category': ['Clothing', 'Footwear', 'Accessories', 'Footwear', 'Clothing', 'Accessories'],\n",
        "    'Price': [1200, 2500, 5000, 3000, 1500, 4500],\n",
        "    'Discount': [10, 20, 15, 10, 5, 25],\n",
        "    'Purchase_Date': ['2024-01-10', '2024-01-15', '2024-02-20', '2024-02-25', '2024-03-05', '2024-03-10']\n",
        "}\n",
        "\n",
        "df = pd.DataFrame(data)\n",
        "print(df)\n",
        "\n",
        "\n",
        "from sklearn.preprocessing import LabelEncoder, OneHotEncoder, StandardScaler\n",
        "\n",
        "print(\"\\n\")\n",
        "le = LabelEncoder()\n",
        "df['Product']=le.fit_transform(df['Product'])\n",
        "#print(df)\n",
        "# grp=df.groupby('Category')\n",
        "# print('\\n')\n",
        "# print(grp.sum())\n",
        "\n",
        "df=pd.get_dummies(df,columns=['Category'])\n",
        "ss=StandardScaler()\n",
        "df[['Price','Discount']]=ss.fit_transform(df[['Price','Discount']])\n",
        "\n",
        "df['Purchase_Date']=pd.to_datetime(df['Purchase_Date'])\n",
        "df['Year']=df['Purchase_Date'].dt.year\n",
        "df['Month']=df['Purchase_Date'].dt.month\n",
        "df['Day']=df['Purchase_Date'].dt.day\n",
        "df.drop('Purchase_Date',axis=1,inplace=True)\n",
        "print(df)"
      ]
    },
    {
      "cell_type": "markdown",
      "source": [
        "📝 Your Tasks\n",
        "Label Encode the \"Product\" column.\n",
        "\n",
        "One-Hot Encode the \"Category\" column.\n",
        "\n",
        "Apply StandardScaler on \"Price\" and \"Discount\".\n",
        "\n",
        "Create New Features:\n",
        "\n",
        "Year, Month, Day from \"Purchase_Date\".\n",
        "\n",
        "Drop the \"Purchase_Date\" column after feature extraction."
      ],
      "metadata": {
        "id": "sYgsPd1YGV5U"
      }
    }
  ]
}