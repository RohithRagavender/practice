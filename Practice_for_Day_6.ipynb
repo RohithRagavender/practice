{
  "nbformat": 4,
  "nbformat_minor": 0,
  "metadata": {
    "colab": {
      "provenance": [],
      "authorship_tag": "ABX9TyOuJ6LEn7Q+NkZnrB+Ww3p1",
      "include_colab_link": true
    },
    "kernelspec": {
      "name": "python3",
      "display_name": "Python 3"
    },
    "language_info": {
      "name": "python"
    }
  },
  "cells": [
    {
      "cell_type": "markdown",
      "metadata": {
        "id": "view-in-github",
        "colab_type": "text"
      },
      "source": [
        "<a href=\"https://colab.research.google.com/github/RohithRagavender/practice/blob/main/Practice_for_Day_6.ipynb\" target=\"_parent\"><img src=\"https://colab.research.google.com/assets/colab-badge.svg\" alt=\"Open In Colab\"/></a>"
      ]
    },
    {
      "cell_type": "code",
      "execution_count": 7,
      "metadata": {
        "colab": {
          "base_uri": "https://localhost:8080/"
        },
        "id": "Sug_xwYE3ghQ",
        "outputId": "051e9634-daf8-4f91-ded6-933219764d58"
      },
      "outputs": [
        {
          "output_type": "stream",
          "name": "stdout",
          "text": [
            "First 5 Rows:\n",
            "   PassengerId  Survived  Pclass  ...     Fare Cabin Embarked\n",
            "0            1         0       3  ...   7.2500   NaN        S\n",
            "1            2         1       1  ...  71.2833   C85        C\n",
            "2            3         1       3  ...   7.9250   NaN        S\n",
            "3            4         1       1  ...  53.1000  C123        S\n",
            "4            5         0       3  ...   8.0500   NaN        S\n",
            "\n",
            "[5 rows x 13 columns]\n",
            "\n",
            " Missing Values Befroe Handling\n",
            "PassengerId        0\n",
            "Survived           0\n",
            "Pclass             0\n",
            "First Person       0\n",
            "Second Person      0\n",
            "Sex                0\n",
            "Age              177\n",
            "SibSp              0\n",
            "Parch              0\n",
            "Ticket             0\n",
            "Fare               0\n",
            "Cabin            687\n",
            "Embarked           2\n",
            "dtype: int64\n",
            "\n",
            "✅ Missing Values After Handling:\n",
            "PassengerId        0\n",
            "Survived           0\n",
            "Pclass             0\n",
            "First Person       0\n",
            "Second Person      0\n",
            "Sex                0\n",
            "Age              177\n",
            "SibSp              0\n",
            "Parch              0\n",
            "Ticket             0\n",
            "Fare               0\n",
            "Embarked           0\n",
            "dtype: int64\n",
            "\n",
            "🔢 Encoded Data Sample:\n",
            "   Sex  Embarked\n",
            "0    1         2\n",
            "1    0         0\n",
            "2    0         2\n",
            "3    0         2\n",
            "4    1         2\n",
            "\n",
            "📏 Scaled Data Sample:\n",
            "        Age      Fare\n",
            "0 -0.530377 -0.502445\n",
            "1  0.571831  0.786845\n",
            "2 -0.254825 -0.488854\n",
            "3  0.365167  0.420730\n",
            "4  0.365167 -0.486337\n",
            "\n",
            "💾 Preprocessed data saved to titanic_preprocessed.csv\n"
          ]
        },
        {
          "output_type": "stream",
          "name": "stderr",
          "text": [
            "/tmp/ipython-input-1085836434.py:15: FutureWarning: A value is trying to be set on a copy of a DataFrame or Series through chained assignment using an inplace method.\n",
            "The behavior will change in pandas 3.0. This inplace method will never work because the intermediate object on which we are setting values always behaves as a copy.\n",
            "\n",
            "For example, when doing 'df[col].method(value, inplace=True)', try using 'df.method({col: value}, inplace=True)' or df[col] = df[col].method(value) instead, to perform the operation inplace on the original object.\n",
            "\n",
            "\n",
            "  df['Embarked'].fillna(df['Embarked'].mode()[0], inplace=True)\n"
          ]
        }
      ],
      "source": [
        "import pandas as pd\n",
        "from sklearn.preprocessing import LabelEncoder,StandardScaler\n",
        "\n",
        "df = pd.read_csv('Titanic.csv')\n",
        "print('First 5 Rows:')\n",
        "print(df.head())\n",
        "\n",
        "# ========================\n",
        "# Step 1: Check Missing Values\n",
        "# ========================\n",
        "\n",
        "print(\"\\n Missing Values Befroe Handling\")\n",
        "print(df.isnull().sum())\n",
        "# Fill Embarked missing values with mode\n",
        "df['Embarked'].fillna(df['Embarked'].mode()[0], inplace=True)\n",
        "\n",
        "# Drop Cabin column (too many missing values)\n",
        "df.drop(columns=['Cabin'], inplace=True)\n",
        "\n",
        "print(\"\\n✅ Missing Values After Handling:\")\n",
        "print(df.isnull().sum())\n",
        "\n",
        "# ========================\n",
        "# Step 2: Encode Categorical Variables\n",
        "# ========================\n",
        "le = LabelEncoder()\n",
        "df['Sex'] = le.fit_transform(df['Sex'])  # male=1, female=0\n",
        "df['Embarked'] = le.fit_transform(df['Embarked'])\n",
        "\n",
        "print(\"\\n🔢 Encoded Data Sample:\")\n",
        "print(df[['Sex', 'Embarked']].head())\n",
        "\n",
        "# ========================\n",
        "# Step 3: Feature Scaling\n",
        "# ========================\n",
        "scaler = StandardScaler()\n",
        "numeric_cols = ['Age', 'Fare']\n",
        "df[numeric_cols] = scaler.fit_transform(df[numeric_cols])\n",
        "\n",
        "print(\"\\n📏 Scaled Data Sample:\")\n",
        "print(df[numeric_cols].head())\n",
        "\n",
        "# ========================\n",
        "# Step 4: Save Preprocessed Data\n",
        "# ========================\n",
        "df.to_csv(\"titanic_preprocessed.csv\", index=False)\n",
        "print(\"\\n💾 Preprocessed data saved to titanic_preprocessed.csv\")"
      ]
    },
    {
      "cell_type": "code",
      "source": [],
      "metadata": {
        "id": "KQu_ee3M4RmU"
      },
      "execution_count": null,
      "outputs": []
    },
    {
      "cell_type": "code",
      "source": [
        "import pandas as pd\n",
        "from sklearn.preprocessing import LabelEncoder , StandardScaler\n",
        "df = pd.read_csv('Student.csv')\n",
        "print(\"First 5 Rows\")\n",
        "print(df.head())\n",
        "print(\"\\n Missing Values before the handling\")\n",
        "print(df.isnull().sum())\n",
        "df['Age'].fillna(df['Age'].median(), inplace=True)\n",
        "df['Marks'].fillna(df['Marks'].mean(),inplace=True)\n",
        "df['Gender'].fillna(\"Unknown\", inplace=True)\n",
        "print(\"\\n✅ After Handling Nulls:\")\n",
        "print(df.isnull().sum())\n",
        "\n",
        "\n",
        "le=LabelEncoder()\n",
        "df['Gender']=le.fit_transform(df['Gender'])\n",
        "# print(\"\\n🔢 Encoded Data Sample:\")\n",
        "# print(df[['Gender']])\n",
        "\n",
        "df['Department'] = le.fit_transform(df['Department'])\n",
        "# print(\"\\n🔢 Encoded Data Sample:\")\n",
        "# print(df[['Department']])\n",
        "\n",
        "df=pd.get_dummies(df,columns=['City'],drop_first=True)\n",
        "# print(\"\\n🔢 Encoded Data Sample:\")\n",
        "# print(df)\n",
        "\n",
        "scaler=StandardScaler()\n",
        "numeric_cols=['Age','Marks']\n",
        "df[numeric_cols]=scaler.fit_transform(df[numeric_cols])\n",
        "print(\"\\n📏 Scaled Data Sample:\")\n",
        "print(df[numeric_cols].head())"
      ],
      "metadata": {
        "colab": {
          "base_uri": "https://localhost:8080/"
        },
        "id": "bR5LNiLN8GXt",
        "outputId": "a21e39b5-dc99-458b-bd8f-20b736918fa6"
      },
      "execution_count": 26,
      "outputs": [
        {
          "output_type": "stream",
          "name": "stdout",
          "text": [
            "First 5 Rows\n",
            "   ID     Name  Gender   Age Department  Marks        City\n",
            "0   1    Alice  Female  20.0    Science   85.0     Chennai\n",
            "1   2      Bob    Male  21.0   Commerce   78.0     Chennai\n",
            "2   3  Charlie    Male   NaN    Science   92.0  Coimbatore\n",
            "3   4    David    Male  23.0       Arts    NaN     Madurai\n",
            "4   5      Eva  Female  22.0    Science   88.0     Chennai\n",
            "\n",
            " Missing Values before the handling\n",
            "ID            0\n",
            "Name          0\n",
            "Gender        1\n",
            "Age           2\n",
            "Department    0\n",
            "Marks         2\n",
            "City          0\n",
            "dtype: int64\n",
            "\n",
            "✅ After Handling Nulls:\n",
            "ID            0\n",
            "Name          0\n",
            "Gender        0\n",
            "Age           0\n",
            "Department    0\n",
            "Marks         0\n",
            "City          0\n",
            "dtype: int64\n",
            "\n",
            "📏 Scaled Data Sample:\n",
            "   Age     Marks\n",
            "0 -1.5  0.272664\n",
            "1 -0.5 -0.745282\n",
            "2  0.0  1.290610\n",
            "3  1.5  0.000000\n",
            "4  0.5  0.708927\n"
          ]
        },
        {
          "output_type": "stream",
          "name": "stderr",
          "text": [
            "/tmp/ipython-input-2300412600.py:8: FutureWarning: A value is trying to be set on a copy of a DataFrame or Series through chained assignment using an inplace method.\n",
            "The behavior will change in pandas 3.0. This inplace method will never work because the intermediate object on which we are setting values always behaves as a copy.\n",
            "\n",
            "For example, when doing 'df[col].method(value, inplace=True)', try using 'df.method({col: value}, inplace=True)' or df[col] = df[col].method(value) instead, to perform the operation inplace on the original object.\n",
            "\n",
            "\n",
            "  df['Age'].fillna(df['Age'].median(), inplace=True)\n",
            "/tmp/ipython-input-2300412600.py:9: FutureWarning: A value is trying to be set on a copy of a DataFrame or Series through chained assignment using an inplace method.\n",
            "The behavior will change in pandas 3.0. This inplace method will never work because the intermediate object on which we are setting values always behaves as a copy.\n",
            "\n",
            "For example, when doing 'df[col].method(value, inplace=True)', try using 'df.method({col: value}, inplace=True)' or df[col] = df[col].method(value) instead, to perform the operation inplace on the original object.\n",
            "\n",
            "\n",
            "  df['Marks'].fillna(df['Marks'].mean(),inplace=True)\n",
            "/tmp/ipython-input-2300412600.py:10: FutureWarning: A value is trying to be set on a copy of a DataFrame or Series through chained assignment using an inplace method.\n",
            "The behavior will change in pandas 3.0. This inplace method will never work because the intermediate object on which we are setting values always behaves as a copy.\n",
            "\n",
            "For example, when doing 'df[col].method(value, inplace=True)', try using 'df.method({col: value}, inplace=True)' or df[col] = df[col].method(value) instead, to perform the operation inplace on the original object.\n",
            "\n",
            "\n",
            "  df['Gender'].fillna(\"Unknown\", inplace=True)\n"
          ]
        }
      ]
    },
    {
      "cell_type": "code",
      "source": [],
      "metadata": {
        "id": "VsI7KxqS9U6v"
      },
      "execution_count": null,
      "outputs": []
    }
  ]
}