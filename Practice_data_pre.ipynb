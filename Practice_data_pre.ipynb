{
  "nbformat": 4,
  "nbformat_minor": 0,
  "metadata": {
    "colab": {
      "provenance": [],
      "authorship_tag": "ABX9TyPX2IZUbDMRv5TX3F23s0ef",
      "include_colab_link": true
    },
    "kernelspec": {
      "name": "python3",
      "display_name": "Python 3"
    },
    "language_info": {
      "name": "python"
    }
  },
  "cells": [
    {
      "cell_type": "markdown",
      "metadata": {
        "id": "view-in-github",
        "colab_type": "text"
      },
      "source": [
        "<a href=\"https://colab.research.google.com/github/RohithRagavender/practice/blob/main/Practice_data_pre.ipynb\" target=\"_parent\"><img src=\"https://colab.research.google.com/assets/colab-badge.svg\" alt=\"Open In Colab\"/></a>"
      ]
    },
    {
      "cell_type": "code",
      "execution_count": 24,
      "metadata": {
        "colab": {
          "base_uri": "https://localhost:8080/"
        },
        "id": "AJtAaQc5DTO-",
        "outputId": "597ede4e-6fa2-4185-b53c-5b2cd27dcccf"
      },
      "outputs": [
        {
          "output_type": "stream",
          "name": "stdout",
          "text": [
            "Missing Values Count Before Handling\n",
            "EmpID          0\n",
            "Name           0\n",
            "Department     0\n",
            "Gender         1\n",
            "Age            2\n",
            "Experience     0\n",
            "Salary         1\n",
            "JoiningCity    0\n",
            "Rating         0\n",
            "dtype: int64\n",
            "\n",
            "\n",
            "\n",
            "\n",
            "Mean Value\n",
            "Age          -2.220446e-17\n",
            "Salary        2.886580e-16\n",
            "Experience    9.992007e-17\n",
            "dtype: float64\n",
            "\n",
            "\n",
            "Standard Deivation Value\n",
            "Age           1.054093\n",
            "Salary        1.054093\n",
            "Experience    1.054093\n",
            "dtype: float64\n"
          ]
        },
        {
          "output_type": "stream",
          "name": "stderr",
          "text": [
            "/tmp/ipython-input-3519740358.py:6: FutureWarning: A value is trying to be set on a copy of a DataFrame or Series through chained assignment using an inplace method.\n",
            "The behavior will change in pandas 3.0. This inplace method will never work because the intermediate object on which we are setting values always behaves as a copy.\n",
            "\n",
            "For example, when doing 'df[col].method(value, inplace=True)', try using 'df.method({col: value}, inplace=True)' or df[col] = df[col].method(value) instead, to perform the operation inplace on the original object.\n",
            "\n",
            "\n",
            "  df['Age'].fillna(df['Age'].median(),inplace=True)\n",
            "/tmp/ipython-input-3519740358.py:7: FutureWarning: A value is trying to be set on a copy of a DataFrame or Series through chained assignment using an inplace method.\n",
            "The behavior will change in pandas 3.0. This inplace method will never work because the intermediate object on which we are setting values always behaves as a copy.\n",
            "\n",
            "For example, when doing 'df[col].method(value, inplace=True)', try using 'df.method({col: value}, inplace=True)' or df[col] = df[col].method(value) instead, to perform the operation inplace on the original object.\n",
            "\n",
            "\n",
            "  df['Salary'].fillna(df['Salary'].mean(),inplace=True)\n",
            "/tmp/ipython-input-3519740358.py:8: FutureWarning: A value is trying to be set on a copy of a DataFrame or Series through chained assignment using an inplace method.\n",
            "The behavior will change in pandas 3.0. This inplace method will never work because the intermediate object on which we are setting values always behaves as a copy.\n",
            "\n",
            "For example, when doing 'df[col].method(value, inplace=True)', try using 'df.method({col: value}, inplace=True)' or df[col] = df[col].method(value) instead, to perform the operation inplace on the original object.\n",
            "\n",
            "\n",
            "  df['Gender'].fillna(\"Unknown\",inplace=True)\n"
          ]
        }
      ],
      "source": [
        "import pandas as pd\n",
        "from sklearn.preprocessing import LabelEncoder,StandardScaler\n",
        "df=pd.read_csv('employee_data.csv')\n",
        "print(\"Missing Values Count Before Handling\")\n",
        "print(df.isnull().sum())\n",
        "df['Age'].fillna(df['Age'].median(),inplace=True)\n",
        "df['Salary'].fillna(df['Salary'].mean(),inplace=True)\n",
        "df['Gender'].fillna(\"Unknown\",inplace=True)\n",
        "print(\"\\n\")\n",
        "# Starting to Encoding Section\n",
        "le=LabelEncoder()\n",
        "df['Gender']=le.fit_transform(df['Gender'])\n",
        "df['Department'] = le.fit_transform(df['Department'])\n",
        "df = pd.get_dummies(df,columns=['JoiningCity'],drop_first=True)\n",
        "print(\"\\n\")\n",
        "# Starting to Scaling the Data\n",
        "scaler=StandardScaler()\n",
        "cols_to_scale=['Age','Salary','Experience']\n",
        "df[cols_to_scale]=scaler.fit_transform(df[cols_to_scale])\n",
        "print(\"Mean Value\")\n",
        "print(df[cols_to_scale].mean())\n",
        "print(\"\\n\")\n",
        "print(\"Standard Deivation Value\")\n",
        "print(df[cols_to_scale].std())"
      ]
    }
  ]
}