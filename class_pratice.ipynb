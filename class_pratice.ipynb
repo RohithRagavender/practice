{
  "nbformat": 4,
  "nbformat_minor": 0,
  "metadata": {
    "colab": {
      "provenance": [],
      "authorship_tag": "ABX9TyNS0YJ78P2SvnFEW3LFFaMG",
      "include_colab_link": true
    },
    "kernelspec": {
      "name": "python3",
      "display_name": "Python 3"
    },
    "language_info": {
      "name": "python"
    }
  },
  "cells": [
    {
      "cell_type": "markdown",
      "metadata": {
        "id": "view-in-github",
        "colab_type": "text"
      },
      "source": [
        "<a href=\"https://colab.research.google.com/github/RohithRagavender/practice/blob/main/class_pratice.ipynb\" target=\"_parent\"><img src=\"https://colab.research.google.com/assets/colab-badge.svg\" alt=\"Open In Colab\"/></a>"
      ]
    },
    {
      "cell_type": "code",
      "source": [
        "class Car():\n",
        "  def __init__(self,brand,model,color,full):\n",
        "    self.full=full\n",
        "    self.brand=brand\n",
        "    self.model=model\n",
        "    self.color=color\n",
        "\n",
        "  def intro(self):\n",
        "    print(f\"My Car Brand is {self.brand} and model is {self.model} and it's color is just wow {self.color}\")\n",
        "\n",
        "  def full_tank(self):\n",
        "    if self.full == True:\n",
        "      print(\"Tank is full\")\n",
        "    else:\n",
        "      print(\"Tank is not full\")\n",
        "\n",
        "\n",
        "my_car=Car(\"audi\",\"a4\",\"black\",1)\n",
        "my_car.intro()   # ---> First Method\n",
        "my_car.full_tank()  # ---> Second Method\n",
        "\n",
        "\n",
        "print(my_car.model)\n",
        "print(my_car.brand)\n",
        "print(my_car.color)"
      ],
      "metadata": {
        "id": "9e5YPp3qY1Ku"
      },
      "execution_count": null,
      "outputs": []
    },
    {
      "cell_type": "markdown",
      "source": [
        "🧠 Basic Level: Class and Object Creation\n",
        "✅ Create a class Car with attributes brand, model, and year. Write a method display_info() that prints the car details.\n",
        "\n",
        "✅ Create a class Student with attributes name, roll_no, and grade. Write a method display() to show student info.\n",
        "\n",
        "✅ Define a class Rectangle with attributes length and width. Add methods:\n",
        "\n",
        "area() to return the area.\n",
        "\n",
        "perimeter() to return the perimeter.\n",
        "\n",
        "✅ Create a class Circle with radius as attribute. Include:\n",
        "\n",
        "Method to calculate area.\n",
        "\n",
        "Method to calculate circumference.\n",
        "\n",
        "✅ Create a class BankAccount with attributes account_holder, balance. Add methods:\n",
        "\n",
        "deposit(amount)\n",
        "\n",
        "withdraw(amount)\n",
        "\n",
        "display_balance()"
      ],
      "metadata": {
        "id": "2kdr0C3scvVG"
      }
    },
    {
      "cell_type": "code",
      "source": [
        "class Student():\n",
        "  def __init__(self,name,roll_no,grade):\n",
        "    self.name=name\n",
        "    self.roll_no=roll_no\n",
        "    self.grade=grade\n",
        "\n",
        "\n",
        "  def info(self):\n",
        "    print( f\"Student Name: {self.name}\")\n",
        "    print(f\"Student Roll_no: {self.roll_no}\")\n",
        "    print(f\"Student Grade: {self.grade}\")\n",
        "\n",
        "\n",
        "\n",
        "My_info=Student(\"Manju\",25,\"A+\")\n",
        "My_info.info()"
      ],
      "metadata": {
        "colab": {
          "base_uri": "https://localhost:8080/"
        },
        "id": "weC2nzANc9To",
        "outputId": "0e0c2a84-b203-466a-d4af-2c7b6a07344f"
      },
      "execution_count": 16,
      "outputs": [
        {
          "output_type": "stream",
          "name": "stdout",
          "text": [
            "Student Name: Manju\n",
            "Student Roll_no: 25\n",
            "Student Grade: A+\n"
          ]
        }
      ]
    },
    {
      "cell_type": "code",
      "source": [
        "class Rectangle():\n",
        "  def __init__(self,length,width):\n",
        "    self.length=length\n",
        "    self.width=width\n",
        "\n",
        "  def area(self):\n",
        "    return self.length*self.width\n",
        "\n",
        "  def perimeter(self):\n",
        "    return 2*(self.length+self.width)\n",
        "\n",
        "\n",
        "\n",
        "rec=Rectangle(10,20)\n",
        "print(\"Area of Rectangle : \",rec.area())\n",
        "print(\"Perimeter of Rectangle : \",rec.perimeter())\n"
      ],
      "metadata": {
        "colab": {
          "base_uri": "https://localhost:8080/"
        },
        "id": "UFF6ElndezvC",
        "outputId": "86eb239c-d3a8-4bbf-8d88-7e56d518c9e3"
      },
      "execution_count": 20,
      "outputs": [
        {
          "output_type": "stream",
          "name": "stdout",
          "text": [
            "Area of Rectangle :  200\n",
            "Perimeter of Rectangle :  60\n"
          ]
        }
      ]
    },
    {
      "cell_type": "code",
      "source": [
        "class Bank:\n",
        "    def __init__(self, account_holder, balance):\n",
        "        self.account_holder = account_holder\n",
        "        self.balance = balance\n",
        "\n",
        "    def deposit(self, amount):\n",
        "        if amount > 0:\n",
        "            self.balance += amount\n",
        "            print(f\"Deposited ₹{amount}\")\n",
        "            print(f'Total Balance {self.balance}')\n",
        "        else:\n",
        "            print(\"Invalid deposit amount.\")\n",
        "\n",
        "    def withdraw(self, amount):\n",
        "        if amount > 0 and amount <= self.balance:\n",
        "            self.balance -= amount\n",
        "            print(f\"Withdrawn ₹{amount}\")\n",
        "        else:\n",
        "            print(\"Invalid withdrawal amount or insufficient balance.\")\n",
        "\n",
        "    def show_balance(self):\n",
        "        print(f\"Available Balance: ₹{self.balance}\")\n",
        "\n",
        "\n",
        "bk = Bank(\"Manju\", 250000)\n",
        "bk.deposit(11000)\n",
        "print(\" \")\n",
        "bk.withdraw(5000)\n",
        "bk.show_balance()\n"
      ],
      "metadata": {
        "colab": {
          "base_uri": "https://localhost:8080/"
        },
        "id": "UgYKm27sfmjx",
        "outputId": "4226b590-bf78-4bb4-f4cc-2f3ed6c1d3e9"
      },
      "execution_count": 26,
      "outputs": [
        {
          "output_type": "stream",
          "name": "stdout",
          "text": [
            "Deposited ₹11000\n",
            "Total Balance 261000\n",
            " \n",
            "Withdrawn ₹5000\n",
            "Available Balance: ₹256000\n"
          ]
        }
      ]
    }
  ]
}