{
  "nbformat": 4,
  "nbformat_minor": 0,
  "metadata": {
    "colab": {
      "provenance": [],
      "authorship_tag": "ABX9TyNnCNIqBmiUWYuEF9og9RD5",
      "include_colab_link": true
    },
    "kernelspec": {
      "name": "python3",
      "display_name": "Python 3"
    },
    "language_info": {
      "name": "python"
    }
  },
  "cells": [
    {
      "cell_type": "markdown",
      "metadata": {
        "id": "view-in-github",
        "colab_type": "text"
      },
      "source": [
        "<a href=\"https://colab.research.google.com/github/RohithRagavender/practice/blob/main/class_pratice.ipynb\" target=\"_parent\"><img src=\"https://colab.research.google.com/assets/colab-badge.svg\" alt=\"Open In Colab\"/></a>"
      ]
    },
    {
      "cell_type": "code",
      "source": [
        "class Car():\n",
        "  def __init__(self,brand,model,color,full):\n",
        "    self.full=full\n",
        "    self.brand=brand\n",
        "    self.model=model\n",
        "    self.color=color\n",
        "\n",
        "  def intro(self):\n",
        "    print(f\"My Car Brand is {self.brand} and model is {self.model} and it's color is just wow {self.color}\")\n",
        "\n",
        "  def full_tank(self):\n",
        "    if self.full == True:\n",
        "      print(\"Tank is full\")\n",
        "    else:\n",
        "      print(\"Tank is not full\")\n",
        "\n",
        "\n",
        "my_car=Car(\"audi\",\"a4\",\"black\",1)\n",
        "my_car.intro()   # ---> First Method\n",
        "my_car.full_tank()  # ---> Second Method\n",
        "\n",
        "\n",
        "print(my_car.model)\n",
        "print(my_car.brand)\n",
        "print(my_car.color)"
      ],
      "metadata": {
        "colab": {
          "base_uri": "https://localhost:8080/"
        },
        "id": "9e5YPp3qY1Ku",
        "outputId": "7c5ec1f9-d569-4334-8684-df4d9f5d4db9"
      },
      "execution_count": null,
      "outputs": [
        {
          "output_type": "stream",
          "name": "stdout",
          "text": [
            "My Car Brand is audi and model is a4 and it's color is just wow black\n",
            "Tank is full\n",
            "a4\n",
            "audi\n",
            "black\n"
          ]
        }
      ]
    }
  ]
}